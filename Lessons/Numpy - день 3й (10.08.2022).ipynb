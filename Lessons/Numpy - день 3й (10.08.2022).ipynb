{
 "cells": [
  {
   "cell_type": "code",
   "execution_count": 2,
   "id": "39b28f58",
   "metadata": {},
   "outputs": [],
   "source": [
    "import numpy as np"
   ]
  },
  {
   "cell_type": "code",
   "execution_count": 3,
   "id": "e6800864",
   "metadata": {},
   "outputs": [],
   "source": [
    "arr = np.arange(4)"
   ]
  },
  {
   "cell_type": "code",
   "execution_count": 4,
   "id": "d27fad73",
   "metadata": {},
   "outputs": [
    {
     "data": {
      "text/plain": [
       "array([0, 1, 2, 3])"
      ]
     },
     "execution_count": 4,
     "metadata": {},
     "output_type": "execute_result"
    }
   ],
   "source": [
    "arr[0:5]  # не вызовет ошибку, а вызовет столько сколько сможет"
   ]
  },
  {
   "cell_type": "code",
   "execution_count": 5,
   "id": "2999f6d3",
   "metadata": {},
   "outputs": [],
   "source": [
    "new = np.array([4, 7, 'альбом', ['1', '2', '3']], dtype=object)"
   ]
  },
  {
   "cell_type": "code",
   "execution_count": 6,
   "id": "6cdbdd6d",
   "metadata": {},
   "outputs": [
    {
     "data": {
      "text/plain": [
       "array([4, 7, 'альбом', list(['1', '2', '3'])], dtype=object)"
      ]
     },
     "execution_count": 6,
     "metadata": {},
     "output_type": "execute_result"
    }
   ],
   "source": [
    "new"
   ]
  },
  {
   "cell_type": "code",
   "execution_count": 8,
   "id": "a2a5e73f",
   "metadata": {},
   "outputs": [],
   "source": [
    "m1 = np.arange(10)"
   ]
  },
  {
   "cell_type": "code",
   "execution_count": 10,
   "id": "fddefaed",
   "metadata": {},
   "outputs": [],
   "source": [
    "m2 = m1[3:6].copy()"
   ]
  },
  {
   "cell_type": "code",
   "execution_count": 12,
   "id": "5b685c4c",
   "metadata": {},
   "outputs": [
    {
     "data": {
      "text/plain": [
       "array([3, 4, 5])"
      ]
     },
     "execution_count": 12,
     "metadata": {},
     "output_type": "execute_result"
    }
   ],
   "source": [
    "m2"
   ]
  },
  {
   "cell_type": "code",
   "execution_count": 14,
   "id": "3716b4ca",
   "metadata": {},
   "outputs": [],
   "source": [
    "m2d = np.array([[1, 2, 3], [4, 5, 6]])"
   ]
  },
  {
   "cell_type": "code",
   "execution_count": 16,
   "id": "99f3b86f",
   "metadata": {},
   "outputs": [
    {
     "data": {
      "text/plain": [
       "(2, 3)"
      ]
     },
     "execution_count": 16,
     "metadata": {},
     "output_type": "execute_result"
    }
   ],
   "source": [
    "m2d.shape"
   ]
  },
  {
   "cell_type": "code",
   "execution_count": 19,
   "id": "1564cae9",
   "metadata": {},
   "outputs": [
    {
     "data": {
      "text/plain": [
       "5"
      ]
     },
     "execution_count": 19,
     "metadata": {},
     "output_type": "execute_result"
    }
   ],
   "source": [
    "m2d[1, 1]"
   ]
  },
  {
   "cell_type": "code",
   "execution_count": 21,
   "id": "90f0b315",
   "metadata": {},
   "outputs": [],
   "source": [
    "m3d = np.array([[[1, 2, 3], [4, 5, 6]], [[7, 8, 9], [10, 11, 12]]])"
   ]
  },
  {
   "cell_type": "code",
   "execution_count": 24,
   "id": "0de2faa7",
   "metadata": {},
   "outputs": [
    {
     "data": {
      "text/plain": [
       "array([[[ 1,  2,  3],\n",
       "        [ 4,  5,  6]],\n",
       "\n",
       "       [[ 7,  8,  9],\n",
       "        [10, 11, 12]]])"
      ]
     },
     "execution_count": 24,
     "metadata": {},
     "output_type": "execute_result"
    }
   ],
   "source": [
    "m3d"
   ]
  },
  {
   "cell_type": "code",
   "execution_count": 26,
   "id": "b9ea5a9e",
   "metadata": {},
   "outputs": [
    {
     "data": {
      "text/plain": [
       "(2, 2, 3)"
      ]
     },
     "execution_count": 26,
     "metadata": {},
     "output_type": "execute_result"
    }
   ],
   "source": [
    "m3d.shape"
   ]
  },
  {
   "cell_type": "code",
   "execution_count": 28,
   "id": "710df136",
   "metadata": {},
   "outputs": [
    {
     "data": {
      "text/plain": [
       "11"
      ]
     },
     "execution_count": 28,
     "metadata": {},
     "output_type": "execute_result"
    }
   ],
   "source": [
    "m3d[1, 1, 1]"
   ]
  },
  {
   "cell_type": "code",
   "execution_count": 30,
   "id": "274d1fa0",
   "metadata": {},
   "outputs": [],
   "source": [
    "m3d[0] = 0"
   ]
  },
  {
   "cell_type": "code",
   "execution_count": 33,
   "id": "5e4b4dbc",
   "metadata": {},
   "outputs": [
    {
     "data": {
      "text/plain": [
       "array([[[ 0,  0,  0],\n",
       "        [ 0,  0,  0]],\n",
       "\n",
       "       [[ 7,  8,  9],\n",
       "        [10, 11, 12]]])"
      ]
     },
     "execution_count": 33,
     "metadata": {},
     "output_type": "execute_result"
    }
   ],
   "source": [
    "m3d"
   ]
  },
  {
   "cell_type": "code",
   "execution_count": 35,
   "id": "b24a9d5b",
   "metadata": {},
   "outputs": [],
   "source": [
    "m2d = np.array([[1, 2, 3, 4], [5, 6, 7, 8], [9, 10, 11, 12], [13, 14, 15, 16], [17, 18, 19, 20]])"
   ]
  },
  {
   "cell_type": "code",
   "execution_count": 38,
   "id": "5320cbd5",
   "metadata": {},
   "outputs": [
    {
     "data": {
      "text/plain": [
       "array([[ 1,  2,  3,  4],\n",
       "       [ 5,  6,  7,  8],\n",
       "       [ 9, 10, 11, 12],\n",
       "       [13, 14, 15, 16],\n",
       "       [17, 18, 19, 20]])"
      ]
     },
     "execution_count": 38,
     "metadata": {},
     "output_type": "execute_result"
    }
   ],
   "source": [
    "m2d"
   ]
  },
  {
   "cell_type": "code",
   "execution_count": 40,
   "id": "647a0b9e",
   "metadata": {},
   "outputs": [
    {
     "data": {
      "text/plain": [
       "array([[ 9, 10, 11, 12],\n",
       "       [13, 14, 15, 16]])"
      ]
     },
     "execution_count": 40,
     "metadata": {},
     "output_type": "execute_result"
    }
   ],
   "source": [
    "m2d[2:4]"
   ]
  },
  {
   "cell_type": "code",
   "execution_count": 42,
   "id": "c6f9380f",
   "metadata": {},
   "outputs": [
    {
     "data": {
      "text/plain": [
       "array([[ 5,  6,  7,  8],\n",
       "       [ 9, 10, 11, 12],\n",
       "       [13, 14, 15, 16],\n",
       "       [17, 18, 19, 20]])"
      ]
     },
     "execution_count": 42,
     "metadata": {},
     "output_type": "execute_result"
    }
   ],
   "source": [
    "m2d[1:]"
   ]
  },
  {
   "cell_type": "code",
   "execution_count": 44,
   "id": "4a455915",
   "metadata": {},
   "outputs": [
    {
     "data": {
      "text/plain": [
       "array([ 1,  5,  9, 13, 17])"
      ]
     },
     "execution_count": 44,
     "metadata": {},
     "output_type": "execute_result"
    }
   ],
   "source": [
    "m2d[:, 0]"
   ]
  },
  {
   "cell_type": "code",
   "execution_count": 48,
   "id": "028da4dc",
   "metadata": {},
   "outputs": [
    {
     "data": {
      "text/plain": [
       "array([ 9, 10, 11, 12])"
      ]
     },
     "execution_count": 48,
     "metadata": {},
     "output_type": "execute_result"
    }
   ],
   "source": [
    "m2d[:][2]"
   ]
  },
  {
   "cell_type": "code",
   "execution_count": 50,
   "id": "7e198d28",
   "metadata": {},
   "outputs": [
    {
     "data": {
      "text/plain": [
       "array([[ 2,  3],\n",
       "       [ 6,  7],\n",
       "       [10, 11],\n",
       "       [14, 15],\n",
       "       [18, 19]])"
      ]
     },
     "execution_count": 50,
     "metadata": {},
     "output_type": "execute_result"
    }
   ],
   "source": [
    "m2d[:, 1:3]"
   ]
  },
  {
   "cell_type": "code",
   "execution_count": 53,
   "id": "1cead520",
   "metadata": {},
   "outputs": [
    {
     "data": {
      "text/plain": [
       "array([[15, 16],\n",
       "       [19, 20]])"
      ]
     },
     "execution_count": 53,
     "metadata": {},
     "output_type": "execute_result"
    }
   ],
   "source": [
    "m2d[3:, 2:]"
   ]
  },
  {
   "cell_type": "code",
   "execution_count": 55,
   "id": "c6ba115e",
   "metadata": {},
   "outputs": [
    {
     "data": {
      "text/plain": [
       "array([[ 6,  7],\n",
       "       [10, 11],\n",
       "       [14, 15]])"
      ]
     },
     "execution_count": 55,
     "metadata": {},
     "output_type": "execute_result"
    }
   ],
   "source": [
    "m2d[1:4, 1:3]"
   ]
  },
  {
   "cell_type": "code",
   "execution_count": 57,
   "id": "74eb8a66",
   "metadata": {},
   "outputs": [],
   "source": [
    "m = np.array([5, 4, 3, 6, 8, 10])"
   ]
  },
  {
   "cell_type": "code",
   "execution_count": 59,
   "id": "16ab563f",
   "metadata": {},
   "outputs": [
    {
     "data": {
      "text/plain": [
       "array([False, False, False,  True,  True,  True])"
      ]
     },
     "execution_count": 59,
     "metadata": {},
     "output_type": "execute_result"
    }
   ],
   "source": [
    "m > 5"
   ]
  },
  {
   "cell_type": "code",
   "execution_count": 61,
   "id": "978a6ef1",
   "metadata": {},
   "outputs": [],
   "source": [
    "mask = m > 5"
   ]
  },
  {
   "cell_type": "code",
   "execution_count": 63,
   "id": "6d38e752",
   "metadata": {},
   "outputs": [
    {
     "data": {
      "text/plain": [
       "array([False, False, False,  True,  True,  True])"
      ]
     },
     "execution_count": 63,
     "metadata": {},
     "output_type": "execute_result"
    }
   ],
   "source": [
    "mask"
   ]
  },
  {
   "cell_type": "code",
   "execution_count": 65,
   "id": "1ec7b38d",
   "metadata": {},
   "outputs": [
    {
     "data": {
      "text/plain": [
       "array([ 6,  8, 10])"
      ]
     },
     "execution_count": 65,
     "metadata": {},
     "output_type": "execute_result"
    }
   ],
   "source": [
    "m[mask]"
   ]
  },
  {
   "cell_type": "code",
   "execution_count": 67,
   "id": "4b0d3f0a",
   "metadata": {},
   "outputs": [
    {
     "data": {
      "text/plain": [
       "array([ 6,  8, 10])"
      ]
     },
     "execution_count": 67,
     "metadata": {},
     "output_type": "execute_result"
    }
   ],
   "source": [
    "m[m > 5]"
   ]
  },
  {
   "cell_type": "code",
   "execution_count": 69,
   "id": "8f7a114c",
   "metadata": {},
   "outputs": [],
   "source": [
    "n = np.arange(5)"
   ]
  },
  {
   "cell_type": "code",
   "execution_count": 71,
   "id": "70e660bd",
   "metadata": {},
   "outputs": [],
   "source": [
    "mask = [False, True, True, False, True]"
   ]
  },
  {
   "cell_type": "code",
   "execution_count": 76,
   "id": "4dfa7b1b",
   "metadata": {},
   "outputs": [],
   "source": [
    "k = n[mask]"
   ]
  },
  {
   "cell_type": "code",
   "execution_count": 78,
   "id": "9687c21a",
   "metadata": {},
   "outputs": [],
   "source": [
    "k[0] = 19"
   ]
  },
  {
   "cell_type": "code",
   "execution_count": 80,
   "id": "7b88f624",
   "metadata": {},
   "outputs": [
    {
     "data": {
      "text/plain": [
       "array([19,  2,  4])"
      ]
     },
     "execution_count": 80,
     "metadata": {},
     "output_type": "execute_result"
    }
   ],
   "source": [
    "k"
   ]
  },
  {
   "cell_type": "code",
   "execution_count": 81,
   "id": "f1eabe7a",
   "metadata": {},
   "outputs": [
    {
     "data": {
      "text/plain": [
       "array([0, 1, 2, 3, 4])"
      ]
     },
     "execution_count": 81,
     "metadata": {},
     "output_type": "execute_result"
    }
   ],
   "source": [
    "n"
   ]
  }
 ],
 "metadata": {
  "kernelspec": {
   "display_name": "Python 3 (ipykernel)",
   "language": "python",
   "name": "python3"
  },
  "language_info": {
   "codemirror_mode": {
    "name": "ipython",
    "version": 3
   },
   "file_extension": ".py",
   "mimetype": "text/x-python",
   "name": "python",
   "nbconvert_exporter": "python",
   "pygments_lexer": "ipython3",
   "version": "3.9.12"
  }
 },
 "nbformat": 4,
 "nbformat_minor": 5
}
