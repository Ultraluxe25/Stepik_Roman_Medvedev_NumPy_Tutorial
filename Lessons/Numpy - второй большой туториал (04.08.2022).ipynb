{
 "cells": [
  {
   "cell_type": "code",
   "execution_count": 2,
   "id": "874c1624",
   "metadata": {},
   "outputs": [],
   "source": [
    "import numpy as np"
   ]
  },
  {
   "cell_type": "code",
   "execution_count": 6,
   "id": "8f3d081c",
   "metadata": {},
   "outputs": [],
   "source": [
    "arr = np.arange(10)"
   ]
  },
  {
   "cell_type": "code",
   "execution_count": 8,
   "id": "d844317a",
   "metadata": {},
   "outputs": [
    {
     "data": {
      "text/plain": [
       "array([0, 1, 2, 3, 4, 5, 6, 7, 8, 9])"
      ]
     },
     "execution_count": 8,
     "metadata": {},
     "output_type": "execute_result"
    }
   ],
   "source": [
    "arr"
   ]
  },
  {
   "cell_type": "code",
   "execution_count": 10,
   "id": "361445fa",
   "metadata": {},
   "outputs": [
    {
     "data": {
      "text/plain": [
       "dtype('int32')"
      ]
     },
     "execution_count": 10,
     "metadata": {},
     "output_type": "execute_result"
    }
   ],
   "source": [
    "arr.dtype"
   ]
  },
  {
   "cell_type": "code",
   "execution_count": 12,
   "id": "6f0a6d87",
   "metadata": {},
   "outputs": [],
   "source": [
    "arr1 = np.array([1, 2, 3, 4 ,5], dtype=np.float64)"
   ]
  },
  {
   "cell_type": "code",
   "execution_count": 14,
   "id": "d8d986d1",
   "metadata": {},
   "outputs": [
    {
     "data": {
      "text/plain": [
       "array([1., 2., 3., 4., 5.])"
      ]
     },
     "execution_count": 14,
     "metadata": {},
     "output_type": "execute_result"
    }
   ],
   "source": [
    "arr1"
   ]
  },
  {
   "cell_type": "code",
   "execution_count": 16,
   "id": "1c636567",
   "metadata": {},
   "outputs": [
    {
     "data": {
      "text/plain": [
       "dtype('float64')"
      ]
     },
     "execution_count": 16,
     "metadata": {},
     "output_type": "execute_result"
    }
   ],
   "source": [
    "arr1.dtype"
   ]
  },
  {
   "cell_type": "code",
   "execution_count": 18,
   "id": "8cb3138f",
   "metadata": {},
   "outputs": [],
   "source": [
    "arr2 = arr1.astype(np.int64)"
   ]
  },
  {
   "cell_type": "code",
   "execution_count": 20,
   "id": "3c0b8810",
   "metadata": {},
   "outputs": [
    {
     "data": {
      "text/plain": [
       "array([1, 2, 3, 4, 5], dtype=int64)"
      ]
     },
     "execution_count": 20,
     "metadata": {},
     "output_type": "execute_result"
    }
   ],
   "source": [
    "arr2"
   ]
  },
  {
   "cell_type": "code",
   "execution_count": 22,
   "id": "43176d41",
   "metadata": {},
   "outputs": [],
   "source": [
    "arr3 = np.array([1.2, 3.4, 5.6, 7.8, 9.0])"
   ]
  },
  {
   "cell_type": "code",
   "execution_count": 24,
   "id": "e180f9d2",
   "metadata": {},
   "outputs": [],
   "source": [
    "arr4 = arr3.astype(np.int32)"
   ]
  },
  {
   "cell_type": "code",
   "execution_count": 26,
   "id": "f28c9638",
   "metadata": {},
   "outputs": [
    {
     "data": {
      "text/plain": [
       "array([1, 3, 5, 7, 9])"
      ]
     },
     "execution_count": 26,
     "metadata": {},
     "output_type": "execute_result"
    }
   ],
   "source": [
    "arr4"
   ]
  },
  {
   "cell_type": "code",
   "execution_count": 30,
   "id": "3ed69b43",
   "metadata": {},
   "outputs": [],
   "source": [
    "arr5 = np.array(['1.5', '-2.4', '3', '-8', '-13_285.13'])"
   ]
  },
  {
   "cell_type": "code",
   "execution_count": 32,
   "id": "de284c2e",
   "metadata": {},
   "outputs": [
    {
     "data": {
      "text/plain": [
       "array(['1.5', '-2.4', '3', '-8', '-13_285.13'], dtype='<U10')"
      ]
     },
     "execution_count": 32,
     "metadata": {},
     "output_type": "execute_result"
    }
   ],
   "source": [
    "arr5"
   ]
  },
  {
   "cell_type": "code",
   "execution_count": 34,
   "id": "b3653f53",
   "metadata": {},
   "outputs": [],
   "source": [
    "arr6 = arr5.astype(np.float64)"
   ]
  },
  {
   "cell_type": "code",
   "execution_count": 36,
   "id": "4a899731",
   "metadata": {},
   "outputs": [
    {
     "data": {
      "text/plain": [
       "array([ 1.500000e+00, -2.400000e+00,  3.000000e+00, -8.000000e+00,\n",
       "       -1.328513e+04])"
      ]
     },
     "execution_count": 36,
     "metadata": {},
     "output_type": "execute_result"
    }
   ],
   "source": [
    "arr6"
   ]
  },
  {
   "cell_type": "code",
   "execution_count": 39,
   "id": "cfa541ff",
   "metadata": {},
   "outputs": [],
   "source": [
    "arr7 = arr6.astype(arr2.dtype)"
   ]
  },
  {
   "cell_type": "code",
   "execution_count": 41,
   "id": "d0e08290",
   "metadata": {},
   "outputs": [
    {
     "data": {
      "text/plain": [
       "array([     1,     -2,      3,     -8, -13285], dtype=int64)"
      ]
     },
     "execution_count": 41,
     "metadata": {},
     "output_type": "execute_result"
    }
   ],
   "source": [
    "arr7"
   ]
  },
  {
   "cell_type": "code",
   "execution_count": 43,
   "id": "15279cdf",
   "metadata": {},
   "outputs": [],
   "source": [
    "lst = [1, 2, 3, 4]"
   ]
  },
  {
   "cell_type": "code",
   "execution_count": 45,
   "id": "cef5932c",
   "metadata": {},
   "outputs": [],
   "source": [
    "arr8 = np.array([1, 2, 3, 4])"
   ]
  },
  {
   "cell_type": "code",
   "execution_count": 47,
   "id": "692ba5e5",
   "metadata": {},
   "outputs": [
    {
     "data": {
      "text/plain": [
       "array([2, 4, 6, 8])"
      ]
     },
     "execution_count": 47,
     "metadata": {},
     "output_type": "execute_result"
    }
   ],
   "source": [
    "arr8 * 2"
   ]
  },
  {
   "cell_type": "code",
   "execution_count": 49,
   "id": "e1e3272d",
   "metadata": {},
   "outputs": [],
   "source": [
    "arr9 = arr8 * arr8"
   ]
  },
  {
   "cell_type": "code",
   "execution_count": 51,
   "id": "33eec07e",
   "metadata": {},
   "outputs": [
    {
     "data": {
      "text/plain": [
       "array([ 1,  4,  9, 16])"
      ]
     },
     "execution_count": 51,
     "metadata": {},
     "output_type": "execute_result"
    }
   ],
   "source": [
    "arr9"
   ]
  },
  {
   "cell_type": "code",
   "execution_count": 61,
   "id": "e7b227c4",
   "metadata": {},
   "outputs": [],
   "source": [
    "arr10 = arr9 * arr9"
   ]
  },
  {
   "cell_type": "code",
   "execution_count": 63,
   "id": "523cabc7",
   "metadata": {},
   "outputs": [
    {
     "data": {
      "text/plain": [
       "array([         1,          0, -919996767,          0], dtype=int32)"
      ]
     },
     "execution_count": 63,
     "metadata": {},
     "output_type": "execute_result"
    }
   ],
   "source": [
    "arr10"
   ]
  },
  {
   "cell_type": "code",
   "execution_count": 65,
   "id": "0bb0edcd",
   "metadata": {},
   "outputs": [],
   "source": [
    "a = np.array([1, 2, 3, 4, 5, 6, 7, 8, 9])"
   ]
  },
  {
   "cell_type": "code",
   "execution_count": 67,
   "id": "e0e4aaae",
   "metadata": {},
   "outputs": [],
   "source": [
    "b = a.reshape(3, 3)"
   ]
  },
  {
   "cell_type": "code",
   "execution_count": 69,
   "id": "39e949f1",
   "metadata": {},
   "outputs": [
    {
     "data": {
      "text/plain": [
       "array([[1, 2, 3],\n",
       "       [4, 5, 6],\n",
       "       [7, 8, 9]])"
      ]
     },
     "execution_count": 69,
     "metadata": {},
     "output_type": "execute_result"
    }
   ],
   "source": [
    "b"
   ]
  },
  {
   "cell_type": "code",
   "execution_count": 72,
   "id": "a954125c",
   "metadata": {},
   "outputs": [
    {
     "data": {
      "text/plain": [
       "7"
      ]
     },
     "execution_count": 72,
     "metadata": {},
     "output_type": "execute_result"
    }
   ],
   "source": [
    "b[2, 0]"
   ]
  },
  {
   "cell_type": "code",
   "execution_count": 77,
   "id": "8bb20981",
   "metadata": {},
   "outputs": [
    {
     "data": {
      "text/plain": [
       "array([[ 4,  5,  6],\n",
       "       [ 7,  8,  9],\n",
       "       [10, 11, 12]])"
      ]
     },
     "execution_count": 77,
     "metadata": {},
     "output_type": "execute_result"
    }
   ],
   "source": [
    "b + 1"
   ]
  },
  {
   "cell_type": "code",
   "execution_count": 78,
   "id": "bd3c92a7",
   "metadata": {},
   "outputs": [
    {
     "data": {
      "text/plain": [
       "array([[ 3,  4,  5],\n",
       "       [ 6,  7,  8],\n",
       "       [ 9, 10, 11]])"
      ]
     },
     "execution_count": 78,
     "metadata": {},
     "output_type": "execute_result"
    }
   ],
   "source": [
    "b"
   ]
  },
  {
   "cell_type": "code",
   "execution_count": 80,
   "id": "69e37a73",
   "metadata": {},
   "outputs": [],
   "source": [
    "arr11 = np.array([1, 2, 3, 4, 5, 6, 7, 8, 9])"
   ]
  },
  {
   "cell_type": "code",
   "execution_count": 82,
   "id": "3444fad1",
   "metadata": {},
   "outputs": [
    {
     "data": {
      "text/plain": [
       "array([ 2,  3,  4,  5,  6,  7,  8,  9, 10])"
      ]
     },
     "execution_count": 82,
     "metadata": {},
     "output_type": "execute_result"
    }
   ],
   "source": [
    "arr11 + 1"
   ]
  },
  {
   "cell_type": "code",
   "execution_count": 87,
   "id": "144c2e1d",
   "metadata": {},
   "outputs": [
    {
     "data": {
      "text/plain": [
       "array([0, 1, 2, 3, 4, 5, 6, 7, 8])"
      ]
     },
     "execution_count": 87,
     "metadata": {},
     "output_type": "execute_result"
    }
   ],
   "source": [
    "arr11 - 1"
   ]
  },
  {
   "cell_type": "code",
   "execution_count": 89,
   "id": "a357fa77",
   "metadata": {},
   "outputs": [
    {
     "data": {
      "text/plain": [
       "array([         1,       1024,      59049,    1048576,    9765625,\n",
       "         60466176,  282475249, 1073741824, -808182895], dtype=int32)"
      ]
     },
     "execution_count": 89,
     "metadata": {},
     "output_type": "execute_result"
    }
   ],
   "source": [
    "arr11 ** 10"
   ]
  },
  {
   "cell_type": "code",
   "execution_count": 91,
   "id": "d2551a85",
   "metadata": {},
   "outputs": [],
   "source": [
    "arr12 = np.array([[1, 2, 3], [4, 5, 6]])"
   ]
  },
  {
   "cell_type": "code",
   "execution_count": 93,
   "id": "c28e3da6",
   "metadata": {},
   "outputs": [
    {
     "data": {
      "text/plain": [
       "array([[1, 2, 3],\n",
       "       [4, 5, 6]])"
      ]
     },
     "execution_count": 93,
     "metadata": {},
     "output_type": "execute_result"
    }
   ],
   "source": [
    "arr12\n"
   ]
  },
  {
   "cell_type": "code",
   "execution_count": 95,
   "id": "4534f6f7",
   "metadata": {},
   "outputs": [
    {
     "data": {
      "text/plain": [
       "array([[0.33333333, 0.66666667, 1.        ],\n",
       "       [1.33333333, 1.66666667, 2.        ]])"
      ]
     },
     "execution_count": 95,
     "metadata": {},
     "output_type": "execute_result"
    }
   ],
   "source": [
    "arr12 / 3"
   ]
  },
  {
   "cell_type": "code",
   "execution_count": 97,
   "id": "0934e308",
   "metadata": {},
   "outputs": [],
   "source": [
    "lst1 = [2, 4]"
   ]
  },
  {
   "cell_type": "code",
   "execution_count": 99,
   "id": "d69629a5",
   "metadata": {},
   "outputs": [],
   "source": [
    "lst2 = [1, 3, 5, 7]"
   ]
  },
  {
   "cell_type": "code",
   "execution_count": 102,
   "id": "ac887a9a",
   "metadata": {},
   "outputs": [
    {
     "data": {
      "text/plain": [
       "True"
      ]
     },
     "execution_count": 102,
     "metadata": {},
     "output_type": "execute_result"
    }
   ],
   "source": [
    "lst1 > lst2"
   ]
  },
  {
   "cell_type": "code",
   "execution_count": 106,
   "id": "65852377",
   "metadata": {},
   "outputs": [],
   "source": [
    "arr13 = arr6 > arr7"
   ]
  },
  {
   "cell_type": "code",
   "execution_count": 108,
   "id": "60161339",
   "metadata": {},
   "outputs": [
    {
     "data": {
      "text/plain": [
       "dtype('bool')"
      ]
     },
     "execution_count": 108,
     "metadata": {},
     "output_type": "execute_result"
    }
   ],
   "source": [
    "arr13.dtype"
   ]
  },
  {
   "cell_type": "code",
   "execution_count": 113,
   "id": "48ffa95e",
   "metadata": {},
   "outputs": [],
   "source": [
    "x = np.arange(10)"
   ]
  },
  {
   "cell_type": "code",
   "execution_count": 115,
   "id": "da792e6f",
   "metadata": {},
   "outputs": [],
   "source": [
    "x[1:7] = 3"
   ]
  },
  {
   "cell_type": "code",
   "execution_count": 117,
   "id": "3a122630",
   "metadata": {},
   "outputs": [
    {
     "data": {
      "text/plain": [
       "array([0, 3, 3, 3, 3, 3, 3, 7, 8, 9])"
      ]
     },
     "execution_count": 117,
     "metadata": {},
     "output_type": "execute_result"
    }
   ],
   "source": [
    "x"
   ]
  },
  {
   "cell_type": "code",
   "execution_count": 119,
   "id": "06187e2b",
   "metadata": {},
   "outputs": [],
   "source": [
    "# Напишите функцию, которая на основе существующего списка создает numpy массив с типом float64\n",
    "import numpy as np\n",
    "\n",
    "def solution(lst):\n",
    "    arr = np.array(lst, dtype='float64')\n",
    "    return arr"
   ]
  },
  {
   "cell_type": "code",
   "execution_count": 120,
   "id": "2b4fa4b8",
   "metadata": {},
   "outputs": [],
   "source": [
    "# К вам в распоряжение поступает массив arr с типом float64. Преобразуйте, пожалуйста, в int32\n",
    "import numpy as np\n",
    "\n",
    "def solution(arr):\n",
    "    arr = arr.astype('int32')\n",
    "    return arr"
   ]
  }
 ],
 "metadata": {
  "kernelspec": {
   "display_name": "Python 3 (ipykernel)",
   "language": "python",
   "name": "python3"
  },
  "language_info": {
   "codemirror_mode": {
    "name": "ipython",
    "version": 3
   },
   "file_extension": ".py",
   "mimetype": "text/x-python",
   "name": "python",
   "nbconvert_exporter": "python",
   "pygments_lexer": "ipython3",
   "version": "3.9.12"
  }
 },
 "nbformat": 4,
 "nbformat_minor": 5
}
